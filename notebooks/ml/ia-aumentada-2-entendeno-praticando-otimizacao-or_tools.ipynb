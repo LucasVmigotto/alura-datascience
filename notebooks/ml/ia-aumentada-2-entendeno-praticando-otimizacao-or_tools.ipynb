{
 "cells": [
  {
   "cell_type": "markdown",
   "metadata": {},
   "source": [
    "# IA Aumentada: Entendendo e praticando otimização com OR-Tools"
   ]
  },
  {
   "cell_type": "markdown",
   "metadata": {},
   "source": [
    "## Referências:\n",
    "* [Google OR-Tools](https://developers.google.com/optimization/introduction)"
   ]
  },
  {
   "cell_type": "markdown",
   "metadata": {},
   "source": [
    "## Instalar libs"
   ]
  },
  {
   "cell_type": "code",
   "execution_count": 1,
   "metadata": {},
   "outputs": [
    {
     "name": "stdout",
     "output_type": "stream",
     "text": [
      "Requirement already satisfied: ortools in /opt/conda/lib/python3.11/site-packages (9.8.3296)\n",
      "Requirement already satisfied: absl-py>=2.0.0 in /opt/conda/lib/python3.11/site-packages (from ortools) (2.0.0)\n",
      "Requirement already satisfied: numpy>=1.13.3 in /opt/conda/lib/python3.11/site-packages (from ortools) (1.26.2)\n",
      "Requirement already satisfied: pandas>=2.0.0 in /opt/conda/lib/python3.11/site-packages (from ortools) (2.1.3)\n",
      "Requirement already satisfied: protobuf>=4.25.0 in /opt/conda/lib/python3.11/site-packages (from ortools) (4.25.1)\n",
      "Requirement already satisfied: python-dateutil>=2.8.2 in /opt/conda/lib/python3.11/site-packages (from pandas>=2.0.0->ortools) (2.8.2)\n",
      "Requirement already satisfied: pytz>=2020.1 in /opt/conda/lib/python3.11/site-packages (from pandas>=2.0.0->ortools) (2023.3.post1)\n",
      "Requirement already satisfied: tzdata>=2022.1 in /opt/conda/lib/python3.11/site-packages (from pandas>=2.0.0->ortools) (2023.3)\n",
      "Requirement already satisfied: six>=1.5 in /opt/conda/lib/python3.11/site-packages (from python-dateutil>=2.8.2->pandas>=2.0.0->ortools) (1.16.0)\n"
     ]
    }
   ],
   "source": [
    "! pip install ortools"
   ]
  },
  {
   "cell_type": "markdown",
   "metadata": {},
   "source": [
    "## Importar bibliotecas"
   ]
  },
  {
   "cell_type": "code",
   "execution_count": 2,
   "metadata": {},
   "outputs": [],
   "source": [
    "import pandas as pd\n",
    "from ortools.sat.python import cp_model"
   ]
  },
  {
   "cell_type": "markdown",
   "metadata": {},
   "source": [
    "## Aula 1"
   ]
  },
  {
   "cell_type": "code",
   "execution_count": 3,
   "metadata": {},
   "outputs": [],
   "source": [
    "modelo = cp_model.CpModel()"
   ]
  },
  {
   "cell_type": "code",
   "execution_count": 4,
   "metadata": {},
   "outputs": [],
   "source": [
    "gate_1 = modelo.NewIntVar(1, 5, 'gate_1')\n",
    "gate_2= modelo.NewIntVar(1, 5, 'gate_2')"
   ]
  },
  {
   "cell_type": "code",
   "execution_count": 5,
   "metadata": {},
   "outputs": [
    {
     "data": {
      "text/plain": [
       "<ortools.sat.python.cp_model.Constraint at 0x7fb575c03f50>"
      ]
     },
     "execution_count": 5,
     "metadata": {},
     "output_type": "execute_result"
    }
   ],
   "source": [
    "modelo.Add(gate_1 != 1)\n",
    "modelo.Add(gate_1 > 4)"
   ]
  },
  {
   "cell_type": "code",
   "execution_count": 6,
   "metadata": {},
   "outputs": [
    {
     "data": {
      "text/plain": [
       "<ortools.sat.python.cp_model.Constraint at 0x7fb575c35150>"
      ]
     },
     "execution_count": 6,
     "metadata": {},
     "output_type": "execute_result"
    }
   ],
   "source": [
    "bonus = modelo.NewIntVar(0, 1, 'bonus')\n",
    "modelo.Add(gate_2 > 10).OnlyEnforceIf(bonus)\n",
    "modelo.Add(gate_2 <= 10).OnlyEnforceIf(bonus.Not())"
   ]
  },
  {
   "cell_type": "code",
   "execution_count": 7,
   "metadata": {},
   "outputs": [],
   "source": [
    "modelo.Maximize(bonus)"
   ]
  },
  {
   "cell_type": "code",
   "execution_count": 8,
   "metadata": {},
   "outputs": [
    {
     "name": "stdout",
     "output_type": "stream",
     "text": [
      "Status do solucionador: \tOPTIMAL\n",
      "Gate 1: \t\t5\n",
      "Gate 2: \t\t1\n",
      "Bonus: \t\t\t\t0\n"
     ]
    }
   ],
   "source": [
    "solver = cp_model.CpSolver()\n",
    "status = solver.Solve(modelo)\n",
    "\n",
    "print('Status do solucionador: \\t%s' % solver.StatusName(status))\n",
    "print('Gate 1: \\t\\t%d' % solver.Value(gate_1))\n",
    "print('Gate 2: \\t\\t%d' % solver.Value(gate_2))\n",
    "print('Bonus: \\t\\t\\t\\t%d' % solver.Value(bonus))"
   ]
  },
  {
   "cell_type": "markdown",
   "metadata": {},
   "source": [
    "## Aula 2"
   ]
  },
  {
   "cell_type": "markdown",
   "metadata": {},
   "source": [
    "* Problema: O mesmo gate com mais de uma aeronave"
   ]
  },
  {
   "cell_type": "code",
   "execution_count": 9,
   "metadata": {},
   "outputs": [
    {
     "name": "stdout",
     "output_type": "stream",
     "text": [
      "Status do solucionador: \tOPTIMAL\n",
      "Gate 1: \t\t\t1\n",
      "Gate 2: \t\t\t1\n"
     ]
    }
   ],
   "source": [
    "modelo = cp_model.CpModel()\n",
    "\n",
    "gate_1 = modelo.NewIntVar(1, 5, 'gate_1')\n",
    "gate_2 = modelo.NewIntVar(1, 5, 'gate_2')\n",
    "\n",
    "solver = cp_model.CpSolver()\n",
    "status = solver.Solve(modelo)\n",
    "\n",
    "print('Status do solucionador: \\t%s' % solver.StatusName(status))\n",
    "print('Gate 1: \\t\\t\\t%d' % solver.Value(gate_1))\n",
    "print('Gate 2: \\t\\t\\t%d' % solver.Value(gate_2))"
   ]
  },
  {
   "cell_type": "markdown",
   "metadata": {},
   "source": [
    "* Solucao: Aplicar regra restritiva para diferenciar"
   ]
  },
  {
   "cell_type": "code",
   "execution_count": 10,
   "metadata": {},
   "outputs": [
    {
     "name": "stdout",
     "output_type": "stream",
     "text": [
      "Status do solucionador: \tOPTIMAL\n",
      "Gate 1: \t\t\t2\n",
      "Gate 2: \t\t\t1\n"
     ]
    }
   ],
   "source": [
    "modelo = cp_model.CpModel()\n",
    "\n",
    "gate_1 = modelo.NewIntVar(1, 5, 'gate_1')\n",
    "gate_2 = modelo.NewIntVar(1, 5, 'gate_2')\n",
    "\n",
    "modelo.Add(gate_1 != gate_2)\n",
    "\n",
    "solver = cp_model.CpSolver()\n",
    "status = solver.Solve(modelo)\n",
    "\n",
    "print('Status do solucionador: \\t%s' % solver.StatusName(status))\n",
    "print('Gate 1: \\t\\t\\t%d' % solver.Value(gate_1))\n",
    "print('Gate 2: \\t\\t\\t%d' % solver.Value(gate_2))"
   ]
  },
  {
   "cell_type": "markdown",
   "metadata": {},
   "source": [
    "* Criar functions"
   ]
  },
  {
   "cell_type": "code",
   "execution_count": 11,
   "metadata": {},
   "outputs": [],
   "source": [
    "def create_gates(model, gates_total, capacity):\n",
    "    return [model.NewIntVar(1, capacity, f'gate_{idx}') for idx in range(gates_total)]"
   ]
  },
  {
   "cell_type": "code",
   "execution_count": 12,
   "metadata": {},
   "outputs": [],
   "source": [
    "def solver_model(model, solver, gates):\n",
    "    status = solver.Solve(model)\n",
    "    print('Status do solucionador: %s' % solver.StatusName(status))\n",
    "    if status == cp_model.INFEASIBLE:\n",
    "        print('Sem solucao')\n",
    "        return\n",
    "    for idx, gate in enumerate(gates):\n",
    "        print('Gate %d: %d' % (idx, solver.Value(gate)))"
   ]
  },
  {
   "cell_type": "code",
   "execution_count": 13,
   "metadata": {},
   "outputs": [],
   "source": [
    "def distinct_planes(model, gates):\n",
    "    model.AddAllDifferent(gates)"
   ]
  },
  {
   "cell_type": "code",
   "execution_count": 14,
   "metadata": {},
   "outputs": [
    {
     "name": "stdout",
     "output_type": "stream",
     "text": [
      "Status do solucionador: OPTIMAL\n",
      "Gate 0: 2\n",
      "Gate 1: 3\n",
      "Gate 2: 1\n",
      "\n",
      "\n",
      "Status do solucionador: OPTIMAL\n",
      "Gate 0: 1\n",
      "Gate 1: 3\n",
      "\n",
      "\n",
      "Status do solucionador: OPTIMAL\n",
      "Gate 0: 1\n",
      "Gate 1: 2\n",
      "\n",
      "\n",
      "Status do solucionador: INFEASIBLE\n",
      "Sem solucao\n",
      "\n",
      "\n"
     ]
    }
   ],
   "source": [
    "scenarios = [[3, 3], # Deve haver solucao para 3 vagas e 3 aeronaves\n",
    "             [2, 3], # Deve haver solucao para 3 vagas e 2 aeronaves\n",
    "             [2, 2], # Deve haver solucao para 2 vagas e 2 aeronaves\n",
    "             [2, 1]] # Nao deve haver solucao para 1 vaga e 2 aeronaves\n",
    "\n",
    "for gates_total, capacity in scenarios:\n",
    "    model = cp_model.CpModel()\n",
    "\n",
    "    gates = create_gates(model, gates_total, capacity)\n",
    "\n",
    "    distinct_planes(model, gates)\n",
    "\n",
    "    solver_model(model, cp_model.CpSolver(), gates)\n",
    "\n",
    "    print('\\n')"
   ]
  },
  {
   "cell_type": "markdown",
   "metadata": {},
   "source": [
    "## Aula 3"
   ]
  },
  {
   "cell_type": "markdown",
   "metadata": {},
   "source": [
    "* Problema: aeronaves nao estao pousando"
   ]
  },
  {
   "cell_type": "code",
   "execution_count": 15,
   "metadata": {},
   "outputs": [],
   "source": [
    "def create_gates(model, gates_total, capacity):\n",
    "    return [model.NewIntVar(0, capacity, f'gate_{idx}') for idx in range(gates_total)]"
   ]
  },
  {
   "cell_type": "code",
   "execution_count": 16,
   "metadata": {},
   "outputs": [
    {
     "name": "stdout",
     "output_type": "stream",
     "text": [
      "Status do solucionador: OPTIMAL\n",
      "Gate 0: 0\n",
      "Gate 1: 2\n"
     ]
    }
   ],
   "source": [
    "model = cp_model.CpModel()\n",
    "gates = create_gates(model, 2, 2)\n",
    "\n",
    "distinct_planes(model, gates)\n",
    "\n",
    "solver_model(model, cp_model.CpSolver(), gates)"
   ]
  },
  {
   "cell_type": "code",
   "execution_count": 17,
   "metadata": {},
   "outputs": [
    {
     "name": "stdout",
     "output_type": "stream",
     "text": [
      "Status do solucionador: OPTIMAL\n",
      "Gate 0: 0\n",
      "Gate 1: 1\n"
     ]
    }
   ],
   "source": [
    "model = cp_model.CpModel()\n",
    "gates = create_gates(model, 2, 1)\n",
    "\n",
    "distinct_planes(model, gates)\n",
    "\n",
    "solver_model(model, cp_model.CpSolver(), gates)"
   ]
  },
  {
   "cell_type": "markdown",
   "metadata": {},
   "source": [
    "* Solucao: Aplicar regra que toda aeronave deve pousar"
   ]
  },
  {
   "cell_type": "code",
   "execution_count": 18,
   "metadata": {},
   "outputs": [],
   "source": [
    "def all_planes_must_land(model, gates, capacity):\n",
    "    variables = {}\n",
    "\n",
    "    for i in range(1, capacity + 1):\n",
    "        for j, gate in enumerate(gates):\n",
    "            plane_i_j = model.NewBoolVar(f'plane_{i}_{j}')\n",
    "            model.Add(gate == 1).OnlyEnforceIf(plane_i_j)\n",
    "            model.Add(gate != 1).OnlyEnforceIf(plane_i_j.Not())\n",
    "            variables[(i, j)] = plane_i_j\n",
    "    \n",
    "    for i in range(1, capacity + 1):\n",
    "        model.AddExactlyOne([variables[i, j] for j in range(len(gates))])"
   ]
  },
  {
   "cell_type": "code",
   "execution_count": 19,
   "metadata": {},
   "outputs": [
    {
     "name": "stdout",
     "output_type": "stream",
     "text": [
      "Status do solucionador: OPTIMAL\n",
      "Gate 0: 2\n",
      "Gate 1: 1\n"
     ]
    }
   ],
   "source": [
    "model = cp_model.CpModel()\n",
    "gates = create_gates(model, 2, 2)\n",
    "\n",
    "distinct_planes(model, gates)\n",
    "all_planes_must_land(model, gates, 2)\n",
    "\n",
    "solver_model(model, cp_model.CpSolver(), gates)"
   ]
  },
  {
   "cell_type": "code",
   "execution_count": 20,
   "metadata": {},
   "outputs": [
    {
     "name": "stdout",
     "output_type": "stream",
     "text": [
      "Status do solucionador: OPTIMAL\n",
      "Gate 0: 2\n",
      "Gate 1: 0\n",
      "Gate 2: 1\n"
     ]
    }
   ],
   "source": [
    "model = cp_model.CpModel()\n",
    "gates = create_gates(model, 3, 2)\n",
    "\n",
    "distinct_planes(model, gates)\n",
    "all_planes_must_land(model, gates, 2)\n",
    "\n",
    "solver_model(model, cp_model.CpSolver(), gates)"
   ]
  },
  {
   "cell_type": "code",
   "execution_count": 21,
   "metadata": {},
   "outputs": [
    {
     "name": "stdout",
     "output_type": "stream",
     "text": [
      "Status do solucionador: INFEASIBLE\n",
      "Sem solucao\n"
     ]
    }
   ],
   "source": [
    "model = cp_model.CpModel()\n",
    "gates = create_gates(model, 4, 2)\n",
    "\n",
    "distinct_planes(model, gates)\n",
    "all_planes_must_land(model, gates, 2)\n",
    "\n",
    "solver_model(model, cp_model.CpSolver(), gates)"
   ]
  },
  {
   "cell_type": "markdown",
   "metadata": {},
   "source": [
    "## Aula 4"
   ]
  },
  {
   "cell_type": "code",
   "execution_count": 22,
   "metadata": {},
   "outputs": [],
   "source": [
    "class Gate:\n",
    "    def __init__(self, large: bool):\n",
    "        self.large = large"
   ]
  },
  {
   "cell_type": "code",
   "execution_count": 23,
   "metadata": {},
   "outputs": [],
   "source": [
    "class Plane:\n",
    "    def __init__(self, k: int, large: bool):\n",
    "        self.k = k\n",
    "        self.large = large"
   ]
  },
  {
   "cell_type": "code",
   "execution_count": 24,
   "metadata": {},
   "outputs": [],
   "source": [
    "def remove_from_gate(model, gate, planes):\n",
    "    for plane in planes:\n",
    "        model.Add(gate != plane.k)"
   ]
  },
  {
   "cell_type": "code",
   "execution_count": 25,
   "metadata": {},
   "outputs": [],
   "source": [
    "def large_plane_large_gate(model, gates, planes):\n",
    "    large_planes = [plane for plane in planes if plane.large]\n",
    "\n",
    "    for gate in gates:\n",
    "        if not gate.large:\n",
    "            remove_from_gate(model, gate.variable, large_planes)"
   ]
  },
  {
   "cell_type": "code",
   "execution_count": 26,
   "metadata": {},
   "outputs": [],
   "source": [
    "def create_gates(model, gates, capacity):\n",
    "    variables = []\n",
    "\n",
    "    for i, gate in enumerate(gates):\n",
    "        variable = model.NewIntVar(0, capacity, f'gate_{i}')\n",
    "        gate.variable = variable\n",
    "        variables.append(variable)\n",
    "    \n",
    "    return variables"
   ]
  },
  {
   "cell_type": "code",
   "execution_count": 27,
   "metadata": {},
   "outputs": [],
   "source": [
    "def solver_model(model, solver, gates, planes):\n",
    "    status = solver.Solve(model)\n",
    "    print('Status do solucionador: %s' % solver.StatusName(status))\n",
    "    if status == cp_model.INFEASIBLE:\n",
    "        print('Sem solucao')\n",
    "        return\n",
    "    for gate in gates:\n",
    "        value = solver.Value(gate)\n",
    "        if value == 0:\n",
    "            print(f'{gate} sem aeronave')\n",
    "        else:\n",
    "            plane = planes[value - 1]\n",
    "            print(f'{gate} com aeronave {value} | Grande: {plane.large}')"
   ]
  },
  {
   "cell_type": "code",
   "execution_count": 28,
   "metadata": {},
   "outputs": [
    {
     "name": "stdout",
     "output_type": "stream",
     "text": [
      "Status do solucionador: OPTIMAL\n",
      "gate_0 sem aeronave\n",
      "gate_1 com aeronave 2 | Grande: False\n",
      "gate_2 com aeronave 1 | Grande: True\n"
     ]
    }
   ],
   "source": [
    "planes = [Plane(1, True),\n",
    "          Plane(2, False)]\n",
    "\n",
    "gates = [Gate(False),\n",
    "         Gate(False),\n",
    "         Gate(True)]\n",
    "\n",
    "model = cp_model.CpModel()\n",
    "\n",
    "gates_vars = create_gates(model, gates, len(planes))\n",
    "\n",
    "distinct_planes(model, gates_vars)\n",
    "all_planes_must_land(model, gates_vars, len(planes))\n",
    "large_plane_large_gate(model, gates, planes)\n",
    "\n",
    "solver_model(model, cp_model.CpSolver(), gates_vars, planes)"
   ]
  },
  {
   "cell_type": "code",
   "execution_count": 29,
   "metadata": {},
   "outputs": [
    {
     "name": "stdout",
     "output_type": "stream",
     "text": [
      "Status do solucionador: OPTIMAL\n",
      "gate_0 com aeronave 2 | Grande: True\n",
      "gate_1 com aeronave 1 | Grande: True\n",
      "gate_2 sem aeronave\n"
     ]
    }
   ],
   "source": [
    "planes = [Plane(1, True),\n",
    "          Plane(2, True)]\n",
    "\n",
    "gates = [Gate(True),\n",
    "         Gate(True),\n",
    "         Gate(False)]\n",
    "\n",
    "model = cp_model.CpModel()\n",
    "\n",
    "gates_vars = create_gates(model, gates, len(planes))\n",
    "\n",
    "distinct_planes(model, gates_vars)\n",
    "all_planes_must_land(model, gates_vars, len(planes))\n",
    "large_plane_large_gate(model, gates, planes)\n",
    "\n",
    "solver_model(model, cp_model.CpSolver(), gates_vars, planes)"
   ]
  },
  {
   "cell_type": "code",
   "execution_count": 30,
   "metadata": {},
   "outputs": [
    {
     "name": "stdout",
     "output_type": "stream",
     "text": [
      "Status do solucionador: INFEASIBLE\n",
      "Sem solucao\n"
     ]
    }
   ],
   "source": [
    "planes = [Plane(1, True),\n",
    "          Plane(2, True)]\n",
    "\n",
    "gates = [Gate(True),\n",
    "         Gate(False),\n",
    "         Gate(False)]\n",
    "\n",
    "model = cp_model.CpModel()\n",
    "\n",
    "gates_vars = create_gates(model, gates, len(planes))\n",
    "\n",
    "distinct_planes(model, gates_vars)\n",
    "all_planes_must_land(model, gates_vars, len(planes))\n",
    "large_plane_large_gate(model, gates, planes)\n",
    "\n",
    "solver_model(model, cp_model.CpSolver(), gates_vars, planes)"
   ]
  },
  {
   "cell_type": "markdown",
   "metadata": {},
   "source": [
    "## Aula 5"
   ]
  },
  {
   "cell_type": "code",
   "execution_count": 31,
   "metadata": {},
   "outputs": [],
   "source": [
    "class Gate:\n",
    "    def __init__(self, model, k, size, large):\n",
    "        self.large = large\n",
    "        self.variable = model.NewIntVar(0, size, f'gate_{k}')\n",
    "        self.k = k\n",
    "        self.neighbors = []\n",
    "        self.receive_large_plane = model.NewBoolVar(f'gate_receive_large_plane_{k}')\n",
    "        if not self.large:\n",
    "            model.Add(self.receive_large_plane == 0)"
   ]
  },
  {
   "cell_type": "code",
   "execution_count": 32,
   "metadata": {},
   "outputs": [],
   "source": [
    "def solver_model(model, solver, gates, planes):\n",
    "    status = solver.Solve(model)\n",
    "    print('Status do solucionador: %s' % solver.StatusName(status))\n",
    "    if status == cp_model.INFEASIBLE:\n",
    "        print('Sem solucao')\n",
    "        return\n",
    "    for gate in gates:\n",
    "        value = solver.Value(gate.variable)\n",
    "        if value == 0:\n",
    "            print(f'{gate.variable} sem aeronave')\n",
    "        else:\n",
    "            plane = planes[value - 1]\n",
    "            print(f'{gate.variable} com aeronave {value} | Grande: {plane.large}')"
   ]
  },
  {
   "cell_type": "code",
   "execution_count": 33,
   "metadata": {},
   "outputs": [],
   "source": [
    "def large_plane_large_gate(model, gates, planes):\n",
    "    large_planes = [plane for plane in planes if plane.large]\n",
    "    for gate in gates:\n",
    "        for plane in large_planes:\n",
    "            model.Add(gate.variable != plane.k).OnlyEnforceIf(gate.receive_large_plane.Not())"
   ]
  },
  {
   "cell_type": "code",
   "execution_count": 34,
   "metadata": {},
   "outputs": [],
   "source": [
    "def distinct_planes(model, gates):\n",
    "    model.AddAllDifferent([gate.variable for gate in gates])"
   ]
  },
  {
   "cell_type": "code",
   "execution_count": 35,
   "metadata": {},
   "outputs": [],
   "source": [
    "def all_planes_must_land(model, gates, capacity):\n",
    "    variables = {}\n",
    "\n",
    "    for i in range(1, capacity + 1):\n",
    "        for j, gate in enumerate(gates):\n",
    "            plane_i_j = model.NewBoolVar(f'plane_{i}_{j}')\n",
    "            model.Add(gate.variable == 1).OnlyEnforceIf(plane_i_j)\n",
    "            model.Add(gate.variable != 1).OnlyEnforceIf(plane_i_j.Not())\n",
    "            variables[(i, j)] = plane_i_j\n",
    "    \n",
    "    for i in range(1, capacity + 1):\n",
    "        model.AddExactlyOne([variables[i, j] for j in range(len(gates))])"
   ]
  },
  {
   "cell_type": "code",
   "execution_count": 36,
   "metadata": {},
   "outputs": [],
   "source": [
    "def restrict_neighbors(model, gates, planes):\n",
    "    for gate in gates:\n",
    "        if not gate.large:\n",
    "            continue\n",
    "        for neighbor in gate.neighbors:\n",
    "            if neighbor.large:\n",
    "                model.Add(gate.receive_large_plane == 0).OnlyEnforceIf(neighbor.receive_large_plane)"
   ]
  },
  {
   "cell_type": "code",
   "execution_count": 37,
   "metadata": {},
   "outputs": [
    {
     "name": "stdout",
     "output_type": "stream",
     "text": [
      "Status do solucionador: INFEASIBLE\n",
      "Sem solucao\n"
     ]
    }
   ],
   "source": [
    "planes = [Plane(1, True),\n",
    "          Plane(2, False),\n",
    "          Plane(3, True)]\n",
    "\n",
    "planes_total = len(planes)\n",
    "\n",
    "model = cp_model.CpModel()\n",
    "\n",
    "gates = [Gate(model, 1, planes_total, False),\n",
    "         Gate(model, 2, planes_total, False),\n",
    "         Gate(model, 3, planes_total, True),\n",
    "         Gate(model, 4, planes_total, True)]\n",
    "\n",
    "gates[2].neighbors = [gates[3]]\n",
    "\n",
    "distinct_planes(model, gates)\n",
    "all_planes_must_land(model, gates, planes_total)\n",
    "restrict_neighbors(model, gates, planes)\n",
    "large_plane_large_gate(model, gates, planes)\n",
    "\n",
    "solver_model(model, cp_model.CpSolver(), gates, planes)"
   ]
  },
  {
   "cell_type": "code",
   "execution_count": 38,
   "metadata": {},
   "outputs": [
    {
     "name": "stdout",
     "output_type": "stream",
     "text": [
      "Status do solucionador: OPTIMAL\n",
      "gate_1 com aeronave 2 | Grande: False\n",
      "gate_2 sem aeronave\n",
      "gate_3 com aeronave 3 | Grande: True\n",
      "gate_4 com aeronave 1 | Grande: True\n"
     ]
    }
   ],
   "source": [
    "planes = [Plane(1, True),\n",
    "          Plane(2, False),\n",
    "          Plane(3, True)]\n",
    "\n",
    "planes_total = len(planes)\n",
    "\n",
    "model = cp_model.CpModel()\n",
    "\n",
    "gates = [Gate(model, 1, planes_total, False),\n",
    "         Gate(model, 2, planes_total, False),\n",
    "         Gate(model, 3, planes_total, True),\n",
    "         Gate(model, 4, planes_total, True)]\n",
    "\n",
    "gates[2].neighbors = [gates[0]]\n",
    "\n",
    "distinct_planes(model, gates)\n",
    "all_planes_must_land(model, gates, planes_total)\n",
    "restrict_neighbors(model, gates, planes)\n",
    "large_plane_large_gate(model, gates, planes)\n",
    "\n",
    "solver_model(model, cp_model.CpSolver(), gates, planes)"
   ]
  },
  {
   "cell_type": "code",
   "execution_count": 39,
   "metadata": {},
   "outputs": [
    {
     "name": "stdout",
     "output_type": "stream",
     "text": [
      "Status do solucionador: INFEASIBLE\n",
      "Sem solucao\n"
     ]
    }
   ],
   "source": [
    "planes = [Plane(1, True),\n",
    "          Plane(2, True),\n",
    "          Plane(3, True)]\n",
    "\n",
    "planes_total = len(planes)\n",
    "\n",
    "model = cp_model.CpModel()\n",
    "\n",
    "gates = [Gate(model, 1, planes_total, False),\n",
    "         Gate(model, 2, planes_total, False),\n",
    "         Gate(model, 3, planes_total, True),\n",
    "         Gate(model, 4, planes_total, True)]\n",
    "\n",
    "gates[2].neighbors = [gates[0]]\n",
    "\n",
    "distinct_planes(model, gates)\n",
    "all_planes_must_land(model, gates, planes_total)\n",
    "restrict_neighbors(model, gates, planes)\n",
    "large_plane_large_gate(model, gates, planes)\n",
    "\n",
    "solver_model(model, cp_model.CpSolver(), gates, planes)"
   ]
  }
 ],
 "metadata": {
  "kernelspec": {
   "display_name": "Python 3 (ipykernel)",
   "language": "python",
   "name": "python3"
  },
  "language_info": {
   "codemirror_mode": {
    "name": "ipython",
    "version": 3
   },
   "file_extension": ".py",
   "mimetype": "text/x-python",
   "name": "python",
   "nbconvert_exporter": "python",
   "pygments_lexer": "ipython3",
   "version": "3.11.6"
  }
 },
 "nbformat": 4,
 "nbformat_minor": 2
}
