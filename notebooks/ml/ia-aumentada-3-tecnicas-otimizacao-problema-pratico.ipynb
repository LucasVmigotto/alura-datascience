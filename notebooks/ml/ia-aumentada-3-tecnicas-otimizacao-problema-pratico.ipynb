{
 "cells": [
  {
   "cell_type": "markdown",
   "metadata": {},
   "source": [
    "# IA Aumentada - Técnicas de otimizacão em um problema prático"
   ]
  },
  {
   "cell_type": "markdown",
   "metadata": {},
   "source": [
    "## Instalando e importando libs"
   ]
  },
  {
   "cell_type": "code",
   "execution_count": 1,
   "metadata": {},
   "outputs": [
    {
     "name": "stdout",
     "output_type": "stream",
     "text": [
      "Collecting ortools\n",
      "  Using cached ortools-9.8.3296-cp311-cp311-manylinux_2_17_x86_64.manylinux2014_x86_64.whl.metadata (2.8 kB)\n",
      "Collecting absl-py>=2.0.0 (from ortools)\n",
      "  Using cached absl_py-2.0.0-py3-none-any.whl.metadata (2.3 kB)\n",
      "Requirement already satisfied: numpy>=1.13.3 in /opt/conda/lib/python3.11/site-packages (from ortools) (1.26.2)\n",
      "Requirement already satisfied: pandas>=2.0.0 in /opt/conda/lib/python3.11/site-packages (from ortools) (2.1.3)\n",
      "Collecting protobuf>=4.25.0 (from ortools)\n",
      "  Using cached protobuf-4.25.1-cp37-abi3-manylinux2014_x86_64.whl.metadata (541 bytes)\n",
      "Requirement already satisfied: python-dateutil>=2.8.2 in /opt/conda/lib/python3.11/site-packages (from pandas>=2.0.0->ortools) (2.8.2)\n",
      "Requirement already satisfied: pytz>=2020.1 in /opt/conda/lib/python3.11/site-packages (from pandas>=2.0.0->ortools) (2023.3.post1)\n",
      "Requirement already satisfied: tzdata>=2022.1 in /opt/conda/lib/python3.11/site-packages (from pandas>=2.0.0->ortools) (2023.3)\n",
      "Requirement already satisfied: six>=1.5 in /opt/conda/lib/python3.11/site-packages (from python-dateutil>=2.8.2->pandas>=2.0.0->ortools) (1.16.0)\n",
      "Using cached ortools-9.8.3296-cp311-cp311-manylinux_2_17_x86_64.manylinux2014_x86_64.whl (22.9 MB)\n",
      "Using cached absl_py-2.0.0-py3-none-any.whl (130 kB)\n",
      "Using cached protobuf-4.25.1-cp37-abi3-manylinux2014_x86_64.whl (294 kB)\n",
      "Installing collected packages: protobuf, absl-py, ortools\n",
      "  Attempting uninstall: protobuf\n",
      "    Found existing installation: protobuf 4.24.4\n",
      "    Uninstalling protobuf-4.24.4:\n",
      "      Successfully uninstalled protobuf-4.24.4\n",
      "Successfully installed absl-py-2.0.0 ortools-9.8.3296 protobuf-4.25.1\n",
      "Note: you may need to restart the kernel to use updated packages.\n"
     ]
    }
   ],
   "source": [
    "%pip install ortools"
   ]
  },
  {
   "cell_type": "code",
   "execution_count": 12,
   "metadata": {},
   "outputs": [],
   "source": [
    "from ortools.sat.python.cp_model import CpModel\n",
    "from ortools.sat.python.cp_model import CpSolver\n",
    "from ortools.sat.python.cp_model import INFEASIBLE"
   ]
  },
  {
   "cell_type": "markdown",
   "metadata": {},
   "source": [
    "## Aula 1"
   ]
  },
  {
   "cell_type": "code",
   "execution_count": 4,
   "metadata": {},
   "outputs": [],
   "source": [
    "class Gate:\n",
    "    def __init__(self, model, k, planes_total, large, has_passaport_control):\n",
    "        self.k = k\n",
    "        self.large = large\n",
    "        self.has_passaport_control = has_passaport_control\n",
    "        self.variable = model.NewIntVar(0, planes_total, f'gate_{self.k}')\n",
    "        self.neighbors = []\n",
    "        self.receive_large_plane = model.NewBoolVar(f'receive_large_plane_{self.k}')\n",
    "        if not self.large:\n",
    "            model.Add(self.receive_large_plane == 0)"
   ]
  },
  {
   "cell_type": "code",
   "execution_count": 5,
   "metadata": {},
   "outputs": [],
   "source": [
    "class Plane:\n",
    "    def __init__(self, k, large, has_passaport_control):\n",
    "        self.k = k\n",
    "        self.large = large\n",
    "        self.has_passaport_control = has_passaport_control"
   ]
  },
  {
   "cell_type": "code",
   "execution_count": 10,
   "metadata": {},
   "outputs": [],
   "source": [
    "def distinct_planes(model, gates):\n",
    "    variables = [gate.variable for gate in gates]\n",
    "    model.AddAllDifferent(variables)"
   ]
  },
  {
   "cell_type": "code",
   "execution_count": 21,
   "metadata": {},
   "outputs": [],
   "source": [
    "def all_planes_must_land(model, gates, planes_total):\n",
    "    variables = {}\n",
    "    for i in range (1, planes_total + 1):\n",
    "        for j, gate in enumerate(gates):\n",
    "            plane_i_j = model.NewBoolVar(f'plane_{i}_{j}')\n",
    "            model.Add(gate.variable == i).OnlyEnforceIf(plane_i_j)\n",
    "            model.Add(gate.variable != i).OnlyEnforceIf(plane_i_j.Not())\n",
    "            variables[(i, j)] = plane_i_j\n",
    "    for i in range(1, planes_total + 1):\n",
    "        model.AddExactlyOne([variables[(i, j)] for j in range(len(gates))])"
   ]
  },
  {
   "cell_type": "code",
   "execution_count": 6,
   "metadata": {},
   "outputs": [],
   "source": [
    "def large_plane_large_gate(model, gates, planes):\n",
    "    large_planes = [plane for plane in planes if plane.large]\n",
    "    for gate in gates:\n",
    "        for plane in large_planes:\n",
    "            model.Add(gate.variable != plane.k).OnlyEnforceIf(gate.receive_large_plane.Not())"
   ]
  },
  {
   "cell_type": "code",
   "execution_count": 7,
   "metadata": {},
   "outputs": [],
   "source": [
    "def restrict_neighbors(model, gates, planes):\n",
    "    for gate in gates:\n",
    "        if not gate.large:\n",
    "            continue\n",
    "        for neighbor in gate.neighbors:\n",
    "            if neighbor.large:\n",
    "                model.Add(gate.receive_large_plane == 0).OnlyEnforceIf(neighbor.receive_large_plane)"
   ]
  },
  {
   "cell_type": "code",
   "execution_count": 17,
   "metadata": {},
   "outputs": [],
   "source": [
    "def restrict_planes_with_passaport_control(model, gates, planes):\n",
    "    planes_with_control = [plane for plane in planes if plane.has_passaport_control]\n",
    "    gates_without_control = [gate for gate in gates if not gate.has_passaport_control]\n",
    "    for gate in gates_without_control:\n",
    "        for plane in planes_with_control:\n",
    "            model.Add(gate.variable != plane.k)"
   ]
  },
  {
   "cell_type": "code",
   "execution_count": 25,
   "metadata": {},
   "outputs": [],
   "source": [
    "def solve_model(model, gates, planes):\n",
    "    solver = CpSolver()\n",
    "    status = solver.Solve(model)\n",
    "    print('Status: ' + solver.StatusName(status))\n",
    "    if status == INFEASIBLE:\n",
    "        print('Sem solucão')\n",
    "        return\n",
    "    for gate in gates:\n",
    "        value = solver.Value(gate.variable)\n",
    "        if value == 0:\n",
    "            print(f'{gate.variable} sem avião')\n",
    "        else:\n",
    "            print(f'{gate.variable} com avião {value} | Grande: {planes[value - 1].large}')"
   ]
  },
  {
   "cell_type": "code",
   "execution_count": 22,
   "metadata": {},
   "outputs": [
    {
     "name": "stdout",
     "output_type": "stream",
     "text": [
      "Status: OPTIMAL\n",
      "gate_1 com avião 1 | Grande: False\n",
      "gate_2 com avião 2 | Grande: False\n"
     ]
    }
   ],
   "source": [
    "planes = [Plane(1, False, True),\n",
    "          Plane(2, False, False)]\n",
    "planes_total = len(planes)\n",
    "\n",
    "model = CpModel()\n",
    "\n",
    "gates = [Gate(model, 1, planes_total, False, True),\n",
    "         Gate(model, 2, planes_total, False, False)]\n",
    "\n",
    "distinct_planes(model, gates)\n",
    "all_planes_must_land(model, gates, planes_total)\n",
    "restrict_neighbors(model, gates, planes)\n",
    "large_plane_large_gate(model, gates, planes)\n",
    "restrict_planes_with_passaport_control(model, gates, planes)\n",
    "\n",
    "solve_model(model, gates, planes)"
   ]
  },
  {
   "cell_type": "code",
   "execution_count": 23,
   "metadata": {},
   "outputs": [
    {
     "name": "stdout",
     "output_type": "stream",
     "text": [
      "Status: OPTIMAL\n",
      "gate_1 com avião 2 | Grande: False\n",
      "gate_2 com avião 1 | Grande: False\n"
     ]
    }
   ],
   "source": [
    "planes = [Plane(1, False, False),\n",
    "          Plane(2, False, True)]\n",
    "planes_total = len(planes)\n",
    "\n",
    "model = CpModel()\n",
    "\n",
    "gates = [Gate(model, 1, planes_total, False, True),\n",
    "         Gate(model, 2, planes_total, False, False)]\n",
    "\n",
    "distinct_planes(model, gates)\n",
    "all_planes_must_land(model, gates, planes_total)\n",
    "restrict_neighbors(model, gates, planes)\n",
    "large_plane_large_gate(model, gates, planes)\n",
    "restrict_planes_with_passaport_control(model, gates, planes)\n",
    "\n",
    "solve_model(model, gates, planes)"
   ]
  },
  {
   "cell_type": "code",
   "execution_count": 26,
   "metadata": {},
   "outputs": [
    {
     "name": "stdout",
     "output_type": "stream",
     "text": [
      "Status: INFEASIBLE\n",
      "Sem solucão\n"
     ]
    }
   ],
   "source": [
    "planes = [Plane(1, False, True),\n",
    "          Plane(2, False, True)]\n",
    "planes_total = len(planes)\n",
    "\n",
    "model = CpModel()\n",
    "\n",
    "gates = [Gate(model, 1, planes_total, False, True),\n",
    "         Gate(model, 2, planes_total, False, False)]\n",
    "\n",
    "distinct_planes(model, gates)\n",
    "all_planes_must_land(model, gates, planes_total)\n",
    "restrict_neighbors(model, gates, planes)\n",
    "large_plane_large_gate(model, gates, planes)\n",
    "restrict_planes_with_passaport_control(model, gates, planes)\n",
    "\n",
    "solve_model(model, gates, planes)"
   ]
  },
  {
   "cell_type": "code",
   "execution_count": 27,
   "metadata": {},
   "outputs": [
    {
     "name": "stdout",
     "output_type": "stream",
     "text": [
      "Status: OPTIMAL\n",
      "gate_1 com avião 1 | Grande: False\n",
      "gate_2 com avião 3 | Grande: False\n",
      "gate_3 com avião 2 | Grande: True\n",
      "gate_4 com avião 4 | Grande: True\n"
     ]
    }
   ],
   "source": [
    "planes = [Plane(1, False, True),\n",
    "          Plane(2, True, False),\n",
    "          Plane(3, False, False),\n",
    "          Plane(4, True, True)]\n",
    "planes_total = len(planes)\n",
    "\n",
    "model = CpModel()\n",
    "\n",
    "gates = [Gate(model, 1, planes_total, False, True),\n",
    "         Gate(model, 2, planes_total, False, False),\n",
    "         Gate(model, 3, planes_total, True, False),\n",
    "         Gate(model, 4, planes_total, True, True)]\n",
    "\n",
    "distinct_planes(model, gates)\n",
    "all_planes_must_land(model, gates, planes_total)\n",
    "restrict_neighbors(model, gates, planes)\n",
    "large_plane_large_gate(model, gates, planes)\n",
    "restrict_planes_with_passaport_control(model, gates, planes)\n",
    "\n",
    "solve_model(model, gates, planes)"
   ]
  },
  {
   "cell_type": "markdown",
   "metadata": {},
   "source": [
    "## Aula 2"
   ]
  },
  {
   "cell_type": "code",
   "execution_count": 49,
   "metadata": {},
   "outputs": [],
   "source": [
    "log_vars = []\n",
    "\n",
    "def log_var(var):\n",
    "    global log_vars\n",
    "    log_vars.append(var)"
   ]
  },
  {
   "cell_type": "code",
   "execution_count": 52,
   "metadata": {},
   "outputs": [],
   "source": [
    "def solve_model(model, gates, planes, penalities):\n",
    "    global log_vars\n",
    "\n",
    "    model.Minimize(sum(penalities))\n",
    "\n",
    "    solver = CpSolver()\n",
    "    status = solver.Solve(model)\n",
    "    print('Status: ' + solver.StatusName(status))\n",
    "\n",
    "    if status == INFEASIBLE:\n",
    "        print('Sem solucão')\n",
    "        return\n",
    "\n",
    "    print(f'Valor Objetivo: {solver.ObjectiveValue()}')\n",
    "\n",
    "    for var in log_vars:\n",
    "        print(f'Var {var}: {solver.Value(var)}')\n",
    "    log_vars = []\n",
    "\n",
    "    for gate in gates:\n",
    "        value = solver.Value(gate.variable)\n",
    "        if value == 0:\n",
    "            print(f'{gate.variable} sem avião')\n",
    "        else:\n",
    "            print(f'{gate.variable} com avião {value} | Grande: {planes[value - 1].large}')"
   ]
  },
  {
   "cell_type": "code",
   "execution_count": 41,
   "metadata": {},
   "outputs": [],
   "source": [
    "def choose_if_possible_passport_control(model, gates, planes):\n",
    "    penalities = []\n",
    "\n",
    "    gates_with_control = [gate for gate in gates if gate.has_passaport_control]\n",
    "    planes_without_control = [plane for plane in planes if not plane.has_passaport_control]\n",
    "\n",
    "    for gate in gates_with_control:\n",
    "        for plane in planes_without_control:\n",
    "            penality = model.NewIntVar(0, 1000, f'penality_{gate.k}_{plane.k}')\n",
    "\n",
    "            plane_in_this_gate = model.NewBoolVar(f'gate_{gate.k}_has_plane_{plane.k}')\n",
    "\n",
    "            model.Add(gate.variable == plane.k).OnlyEnforceIf(plane_in_this_gate)\n",
    "            model.Add(gate.variable != plane.k).OnlyEnforceIf(plane_in_this_gate.Not())\n",
    "\n",
    "            model.Add(penality == 1000).OnlyEnforceIf(plane_in_this_gate)\n",
    "            model.Add(penality == 0).OnlyEnforceIf(plane_in_this_gate.Not())\n",
    "\n",
    "            log_var(penality)\n",
    "\n",
    "            penalities.append(penality)\n",
    "    \n",
    "    return penalities"
   ]
  },
  {
   "cell_type": "code",
   "execution_count": 53,
   "metadata": {},
   "outputs": [
    {
     "name": "stdout",
     "output_type": "stream",
     "text": [
      "Status: OPTIMAL\n",
      "Valor Objetivo: 0.0\n",
      "Var penality_1_2: 0\n",
      "Var penality_1_2: 0\n",
      "gate_1 com avião 1 | Grande: False\n",
      "gate_2 com avião 2 | Grande: False\n"
     ]
    }
   ],
   "source": [
    "planes = [Plane(1, False, True),\n",
    "          Plane(2, False, False)]\n",
    "planes_total = len(planes)\n",
    "\n",
    "model = CpModel()\n",
    "\n",
    "gates = [Gate(model, 1, planes_total, False, True),\n",
    "         Gate(model, 2, planes_total, False, False)]\n",
    "\n",
    "distinct_planes(model, gates)\n",
    "all_planes_must_land(model, gates, planes_total)\n",
    "restrict_neighbors(model, gates, planes)\n",
    "large_plane_large_gate(model, gates, planes)\n",
    "restrict_planes_with_passaport_control(model, gates, planes)\n",
    "penalities = choose_if_possible_passport_control(model, gates, planes)\n",
    "\n",
    "solve_model(model, gates, planes, penalities)"
   ]
  },
  {
   "cell_type": "code",
   "execution_count": 54,
   "metadata": {},
   "outputs": [
    {
     "name": "stdout",
     "output_type": "stream",
     "text": [
      "Status: INFEASIBLE\n",
      "Sem solucão\n"
     ]
    }
   ],
   "source": [
    "planes = [Plane(1, False, True),\n",
    "          Plane(2, False, True)]\n",
    "planes_total = len(planes)\n",
    "\n",
    "model = CpModel()\n",
    "\n",
    "gates = [Gate(model, 1, planes_total, False, True),\n",
    "         Gate(model, 2, planes_total, False, False)]\n",
    "\n",
    "distinct_planes(model, gates)\n",
    "all_planes_must_land(model, gates, planes_total)\n",
    "restrict_neighbors(model, gates, planes)\n",
    "large_plane_large_gate(model, gates, planes)\n",
    "restrict_planes_with_passaport_control(model, gates, planes)\n",
    "penalities = choose_if_possible_passport_control(model, gates, planes)\n",
    "\n",
    "solve_model(model, gates, planes, penalities)"
   ]
  },
  {
   "cell_type": "code",
   "execution_count": 55,
   "metadata": {},
   "outputs": [
    {
     "name": "stdout",
     "output_type": "stream",
     "text": [
      "Status: OPTIMAL\n",
      "Valor Objetivo: 1000.0\n",
      "Var penality_1_1: 0\n",
      "Var penality_1_2: 1000\n",
      "gate_1 com avião 2 | Grande: False\n",
      "gate_2 com avião 1 | Grande: False\n"
     ]
    }
   ],
   "source": [
    "planes = [Plane(1, False, False),\n",
    "          Plane(2, False, False)]\n",
    "planes_total = len(planes)\n",
    "\n",
    "model = CpModel()\n",
    "\n",
    "gates = [Gate(model, 1, planes_total, False, True),\n",
    "         Gate(model, 2, planes_total, False, False)]\n",
    "\n",
    "distinct_planes(model, gates)\n",
    "all_planes_must_land(model, gates, planes_total)\n",
    "restrict_neighbors(model, gates, planes)\n",
    "large_plane_large_gate(model, gates, planes)\n",
    "restrict_planes_with_passaport_control(model, gates, planes)\n",
    "penalities = choose_if_possible_passport_control(model, gates, planes)\n",
    "\n",
    "solve_model(model, gates, planes, penalities)"
   ]
  },
  {
   "cell_type": "code",
   "execution_count": 56,
   "metadata": {},
   "outputs": [
    {
     "name": "stdout",
     "output_type": "stream",
     "text": [
      "Status: OPTIMAL\n",
      "Valor Objetivo: 2000.0\n",
      "Var penality_1_1: 0\n",
      "Var penality_1_2: 1000\n",
      "Var penality_1_3: 0\n",
      "Var penality_3_1: 0\n",
      "Var penality_3_2: 0\n",
      "Var penality_3_3: 1000\n",
      "gate_1 com avião 2 | Grande: False\n",
      "gate_2 com avião 1 | Grande: False\n",
      "gate_3 com avião 3 | Grande: False\n"
     ]
    }
   ],
   "source": [
    "planes = [Plane(1, False, False),\n",
    "          Plane(2, False, False),\n",
    "          Plane(3, False, False)]\n",
    "planes_total = len(planes)\n",
    "\n",
    "model = CpModel()\n",
    "\n",
    "gates = [Gate(model, 1, planes_total, False, True),\n",
    "         Gate(model, 2, planes_total, False, False),\n",
    "         Gate(model, 3, planes_total, False, True)]\n",
    "\n",
    "distinct_planes(model, gates)\n",
    "all_planes_must_land(model, gates, planes_total)\n",
    "restrict_neighbors(model, gates, planes)\n",
    "large_plane_large_gate(model, gates, planes)\n",
    "restrict_planes_with_passaport_control(model, gates, planes)\n",
    "penalities = choose_if_possible_passport_control(model, gates, planes)\n",
    "\n",
    "solve_model(model, gates, planes, penalities)"
   ]
  },
  {
   "cell_type": "markdown",
   "metadata": {},
   "source": [
    "## Aula 3 e 4"
   ]
  },
  {
   "cell_type": "code",
   "execution_count": 61,
   "metadata": {},
   "outputs": [],
   "source": [
    "def multiply_matrix(matrix_1, matrix_2, gates_total, planes_total):\n",
    "    return [matrix_1[i][j] * matrix_2[i][j]\n",
    "            for i in range(planes_total)\n",
    "            for j in range(gates_total)]"
   ]
  },
  {
   "cell_type": "code",
   "execution_count": 64,
   "metadata": {},
   "outputs": [],
   "source": [
    "def calc_total_costs(gates_total, planes_total, distances, passengers, requeire_bus, bus_costs):\n",
    "    costs = []\n",
    "\n",
    "    for i in range(planes_total):\n",
    "        plane_costs = []\n",
    "        for j in range(gates_total):\n",
    "            if requeire_bus[j]:\n",
    "                plane_costs.append(bus_costs[1] * distances[j] * passengers[i])\n",
    "            else:\n",
    "                plane_costs.append(bus_costs[0] * distances[j] * passengers[i])\n",
    "        costs.append(plane_costs)\n",
    "\n",
    "    print('Custos possíveis')\n",
    "    for i, row in enumerate(costs):\n",
    "        print(f'Avião {i} => {row}')\n",
    "\n",
    "    return costs"
   ]
  },
  {
   "cell_type": "code",
   "execution_count": 65,
   "metadata": {},
   "outputs": [],
   "source": [
    "def define_model_elements(model, gates_total, planes_total):\n",
    "    X = [[model.NewBoolVar(f'plane_{i}_gate_{j}') \n",
    "             for j in range(gates_total)] \n",
    "             for i in range(planes_total)]\n",
    "\n",
    "    for i, row in enumerate(X):\n",
    "        print(f'Avião {i} => {row}')\n",
    "\n",
    "    return X"
   ]
  },
  {
   "cell_type": "code",
   "execution_count": 67,
   "metadata": {},
   "outputs": [],
   "source": [
    "def distinct_planes(model, X, gates_total, planes_total):\n",
    "    for plane_row in X:\n",
    "        model.AddExactlyOne(plane_row)\n",
    "\n",
    "    for j in range(gates_total):\n",
    "        model.AddAtMostOne([X[i][j] for i in range(planes_total)])"
   ]
  },
  {
   "cell_type": "code",
   "execution_count": 57,
   "metadata": {},
   "outputs": [],
   "source": [
    "def solve_model(model, X):\n",
    "    solver = CpSolver()\n",
    "\n",
    "    status = solver.Solve(model)\n",
    "\n",
    "    if status == INFEASIBLE:\n",
    "        print('Modelo sem solucão')\n",
    "        return\n",
    "\n",
    "    print(f'Status: {solver.StatusName(status)}')\n",
    "\n",
    "    for i, row in enumerate(X):\n",
    "        for j, var in enumerate(row):\n",
    "            value = solver.Value(var)\n",
    "            if value == 1:\n",
    "                print(f'[{var}] => {value}')\n",
    "            \n",
    "    print(f'Custo total: {solver.ObjectiveValue()}')"
   ]
  },
  {
   "cell_type": "code",
   "execution_count": 68,
   "metadata": {},
   "outputs": [
    {
     "name": "stdout",
     "output_type": "stream",
     "text": [
      "Custos possíveis\n",
      "Avião 0 => [100000, 10000000, 200000]\n",
      "Avião 0 => [plane_0_gate_0(0..1), plane_0_gate_1(0..1), plane_0_gate_2(0..1)]\n",
      "Status: OPTIMAL\n",
      "[plane_0_gate_0] => 1\n",
      "Custo total: 100000.0\n"
     ]
    }
   ],
   "source": [
    "model = CpModel()\n",
    "\n",
    "planes_total = 1\n",
    "gates_total = 3\n",
    "bus_costs=(100, 500)\n",
    "\n",
    "requeire_bus = [0, 1, 0]\n",
    "distances = [10, 200, 20]\n",
    "passengers = [100]\n",
    "\n",
    "costs = calc_total_costs(gates_total, \n",
    "                         planes_total, \n",
    "                         distances, \n",
    "                         passengers, \n",
    "                         requeire_bus, \n",
    "                         bus_costs)\n",
    "\n",
    "X = define_model_elements(model, gates_total, planes_total)\n",
    "\n",
    "distinct_planes(model, X, gates_total, planes_total)\n",
    "\n",
    "model.Minimize(sum(multiply_matrix(X, costs, gates_total, planes_total)))\n",
    "\n",
    "solve_model(model, X)"
   ]
  },
  {
   "cell_type": "code",
   "execution_count": 69,
   "metadata": {},
   "outputs": [
    {
     "name": "stdout",
     "output_type": "stream",
     "text": [
      "Custos possíveis\n",
      "Avião 0 => [100000, 10000000, 200000, 50000000]\n",
      "Avião 1 => [150000, 15000000, 300000, 75000000]\n",
      "Avião 2 => [200000, 20000000, 400000, 100000000]\n",
      "Avião 0 => [plane_0_gate_0(0..1), plane_0_gate_1(0..1), plane_0_gate_2(0..1), plane_0_gate_3(0..1)]\n",
      "Avião 1 => [plane_1_gate_0(0..1), plane_1_gate_1(0..1), plane_1_gate_2(0..1), plane_1_gate_3(0..1)]\n",
      "Avião 2 => [plane_2_gate_0(0..1), plane_2_gate_1(0..1), plane_2_gate_2(0..1), plane_2_gate_3(0..1)]\n",
      "Status: OPTIMAL\n",
      "[plane_0_gate_1] => 1\n",
      "[plane_1_gate_2] => 1\n",
      "[plane_2_gate_0] => 1\n",
      "Custo total: 10500000.0\n"
     ]
    }
   ],
   "source": [
    "model = CpModel()\n",
    "\n",
    "planes_total = 3\n",
    "gates_total = 4\n",
    "bus_costs=(100, 500)\n",
    "\n",
    "requeire_bus = [0, 1, 0, 1]\n",
    "distances = [10, 200, 20, 1000]\n",
    "passengers = [100, 150, 200]\n",
    "\n",
    "costs = calc_total_costs(gates_total, \n",
    "                         planes_total, \n",
    "                         distances, \n",
    "                         passengers, \n",
    "                         requeire_bus, \n",
    "                         bus_costs)\n",
    "\n",
    "X = define_model_elements(model, gates_total, planes_total)\n",
    "\n",
    "distinct_planes(model, X, gates_total, planes_total)\n",
    "\n",
    "model.Minimize(sum(multiply_matrix(X, costs, gates_total, planes_total)))\n",
    "\n",
    "solve_model(model, X)"
   ]
  },
  {
   "cell_type": "code",
   "execution_count": 70,
   "metadata": {},
   "outputs": [
    {
     "name": "stdout",
     "output_type": "stream",
     "text": [
      "Custos possíveis\n",
      "Avião 0 => [100000, 10000000, 200000, 50000000, 0]\n",
      "Avião 1 => [150000, 15000000, 300000, 75000000, 0]\n",
      "Avião 2 => [200000, 20000000, 400000, 100000000, 0]\n",
      "Avião 0 => [plane_0_gate_0(0..1), plane_0_gate_1(0..1), plane_0_gate_2(0..1), plane_0_gate_3(0..1), plane_0_gate_4(0..1)]\n",
      "Avião 1 => [plane_1_gate_0(0..1), plane_1_gate_1(0..1), plane_1_gate_2(0..1), plane_1_gate_3(0..1), plane_1_gate_4(0..1)]\n",
      "Avião 2 => [plane_2_gate_0(0..1), plane_2_gate_1(0..1), plane_2_gate_2(0..1), plane_2_gate_3(0..1), plane_2_gate_4(0..1)]\n",
      "Status: OPTIMAL\n",
      "[plane_0_gate_2] => 1\n",
      "[plane_1_gate_0] => 1\n",
      "[plane_2_gate_4] => 1\n",
      "Custo total: 350000.0\n"
     ]
    }
   ],
   "source": [
    "model = CpModel()\n",
    "\n",
    "planes_total = 3\n",
    "gates_total = 5\n",
    "bus_costs=(100, 500)\n",
    "\n",
    "requeire_bus = [0, 1, 0, 1, 0]\n",
    "distances = [10, 200, 20, 1000, 0]\n",
    "passengers = [100, 150, 200]\n",
    "\n",
    "costs = calc_total_costs(gates_total, \n",
    "                         planes_total, \n",
    "                         distances, \n",
    "                         passengers, \n",
    "                         requeire_bus, \n",
    "                         bus_costs)\n",
    "\n",
    "X = define_model_elements(model, gates_total, planes_total)\n",
    "\n",
    "distinct_planes(model, X, gates_total, planes_total)\n",
    "\n",
    "model.Minimize(sum(multiply_matrix(X, costs, gates_total, planes_total)))\n",
    "\n",
    "solve_model(model, X)"
   ]
  }
 ],
 "metadata": {
  "kernelspec": {
   "display_name": "Python 3 (ipykernel)",
   "language": "python",
   "name": "python3"
  },
  "language_info": {
   "codemirror_mode": {
    "name": "ipython",
    "version": 3
   },
   "file_extension": ".py",
   "mimetype": "text/x-python",
   "name": "python",
   "nbconvert_exporter": "python",
   "pygments_lexer": "ipython3",
   "version": "3.11.6"
  }
 },
 "nbformat": 4,
 "nbformat_minor": 2
}
